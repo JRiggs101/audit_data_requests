{
 "cells": [
  {
   "cell_type": "code",
   "execution_count": null,
   "metadata": {},
   "outputs": [],
   "source": [
    "import polars as pl"
   ]
  },
  {
   "cell_type": "code",
   "execution_count": null,
   "metadata": {},
   "outputs": [],
   "source": [
    "list_names =  \"WORTHEN|MURPHY|SHELTON|RUMBO\" # Names separated by pipe symbols\n",
    "prescriber_name = \"ZARA\" "
   ]
  },
  {
   "cell_type": "code",
   "execution_count": null,
   "metadata": {},
   "outputs": [],
   "source": [
    "after_17 = (\n",
    "    pl.scan_csv('data/RxSearchRequestsHistory.csv')\n",
    "    .with_columns(\n",
    "        pl.col('Last name').str.to_uppercase().fill_null('NONNAME'),\n",
    "        pl.col('First name').str.to_uppercase().fill_null('NONNAME')\n",
    "    )\n",
    "    .filter(\n",
    "        pl.col('Last name').str.contains(list_names)\n",
    "    )\n",
    ")"
   ]
  },
  {
   "cell_type": "code",
   "execution_count": null,
   "metadata": {},
   "outputs": [],
   "source": [
    "after_17.collect().write_excel(\n",
    "    f'data/{prescriber_name}_AuditTrail.xlsx',\n",
    "    worksheet='audit trail',\n",
    "    autofit=True,\n",
    "    freeze_panes=((1,0,0,0))\n",
    ")"
   ]
  }
 ],
 "metadata": {
  "kernelspec": {
   "display_name": "work",
   "language": "python",
   "name": "python3"
  },
  "language_info": {
   "codemirror_mode": {
    "name": "ipython",
    "version": 3
   },
   "file_extension": ".py",
   "mimetype": "text/x-python",
   "name": "python",
   "nbconvert_exporter": "python",
   "pygments_lexer": "ipython3",
   "version": "3.11.6"
  }
 },
 "nbformat": 4,
 "nbformat_minor": 2
}
